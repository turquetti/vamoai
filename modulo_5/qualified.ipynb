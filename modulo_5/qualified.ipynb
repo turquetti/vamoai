{
 "metadata": {
  "language_info": {
   "codemirror_mode": {
    "name": "ipython",
    "version": 3
   },
   "file_extension": ".py",
   "mimetype": "text/x-python",
   "name": "python",
   "nbconvert_exporter": "python",
   "pygments_lexer": "ipython3",
   "version": "3.9.1"
  },
  "orig_nbformat": 4,
  "kernelspec": {
   "name": "python3",
   "display_name": "Python 3.9.1 64-bit"
  },
  "interpreter": {
   "hash": "aee8b7b246df8f9039afb4144a1f6fd8d2ca17a180786b69acc140d282b71a49"
  }
 },
 "nbformat": 4,
 "nbformat_minor": 2,
 "cells": [
  {
   "cell_type": "code",
   "execution_count": 16,
   "metadata": {},
   "outputs": [],
   "source": [
    "# questao 1 - Crie uma função que separe as palavras escritas em estilo CamelCase.\n",
    "import re\n",
    "\n",
    "def solution(s):\n",
    "    codigo_regex = '(?<=[a-z])(?=[A-Z])'\n",
    "    codigo_com_espaco = ' '\n",
    "    \n",
    "    return re.sub(codigo_regex, codigo_com_espaco, s)\n",
    "    "
   ]
  },
  {
   "cell_type": "code",
   "execution_count": 28,
   "metadata": {},
   "outputs": [
    {
     "output_type": "execute_result",
     "data": {
      "text/plain": [
       "54929268"
      ]
     },
     "metadata": {},
     "execution_count": 28
    }
   ],
   "source": [
    "# questao 2 - Nesta atividade você tem algumas operações matemáticas dentro de uma \"string suja\".\n",
    "\n",
    "# Então o que fazer?\n",
    "\n",
    "# Entrada: Uma string que possui dois números positivos(Double) e exatamente UM operador, como +, -, * ou / sempre entre esses dois números. A string está suja, possuindo diferentes caracteres dentro dela (além dos números e do operador).\n",
    "\n",
    "# Você deve limpar a string, preservando apenas os números válidos e a operação matemática e retornar o resultado da operação como uma string.\n",
    "\n",
    "# Atenção:\n",
    "\n",
    "# Lembre-se que os números podem ser reais(Double/Float), podendo conter . para separar as casas decimais. Nestes casos você deve converter o número para inteiro(Int), fazer a operação e depois converter o resultado para string.\n",
    "# O resultado deve sempre ser uma string.\n",
    "\n",
    "# Exemplo:\n",
    "# Entrada: \"gdfgdf234dg54gf*23oP42\"\n",
    "# Saída: \"54929268\" (because 23454*2342=54929268)\n",
    "\n",
    "import re\n",
    "\n",
    "def clean_string(s):\n",
    "    codigo_regex = '[ˆA-Za-z]'\n",
    "    codigo_com_espaco = ''\n",
    "    \n",
    "    s_cleaned = re.sub(codigo_regex, codigo_com_espaco, s)\n",
    "    return s_cleaned\n",
    "\n",
    "def convert(string):\n",
    "    numbers = re.split('\\*', string)\n",
    "    return numbers\n",
    "\n",
    "def operation(numbers):\n",
    "    return int(numbers[0])*int(numbers[1])\n",
    "\n",
    "clean_string('gdfgdf234dg54gf*23oP42')\n",
    "convert('23454*2342')\n",
    "operation(['23454', '2342'])"
   ]
  },
  {
   "cell_type": "code",
   "execution_count": 9,
   "metadata": {},
   "outputs": [],
   "source": [
    "# questao 3 - O objetivo desta tarefa é retornar todos os pares de números inteiros de um array que possuem diferença de 2. Não importa se a diferença é negativa, -2 ou 2 são considerados uma diferença de 2.\n",
    "\n",
    "# O resultado deve ser um array com todos os pares de inteiros que atendem esse critério e devem estar ordenados de forma ascendente.\n",
    "\n",
    "# Assuma que não há números duplicados no array. A ordem dos inteiros do array de entrada não importa.\n",
    "\n",
    "# output\n",
    "#[1, 2, 3, 4]  deve retornar [(1, 3), (2, 4)]\n",
    "#[4, 1, 2, 3]  deve também retornar [(1, 3), (2, 4)]\n",
    "#[1, 23, 3, 4, 7] deve retornar [(1, 3)]\n",
    "#[4, 3, 1, 5, 6] deve retornar [(1, 3), (3, 5), (4, 6)]\n",
    "\n"
   ]
  },
  {
   "cell_type": "code",
   "execution_count": 14,
   "metadata": {},
   "outputs": [
    {
     "output_type": "execute_result",
     "data": {
      "text/plain": [
       "'(((('"
      ]
     },
     "metadata": {},
     "execution_count": 14
    }
   ],
   "source": [
    "# questao 4 - O objetivo desse exercício é converter uma string em uma nova string seguindo as seguintes regras:\n",
    "\n",
    "#Cada caracter na nova string é \"(\" se este caracter aparece apenas uma vez na string original ou \")\" se esse caracter aparece mais de uma vez na string original. Ignore capitalização para determinar se um caracter é duplicado.\n",
    "\n",
    "#output\n",
    "#\"din\"      =>  \"(((\"\n",
    "#\"recede\"   =>  \"()()()\"\n",
    "#\"Success\"  =>  \")())())\"\n",
    "#\"(( @\"     =>  \"))((\"\n",
    "\n",
    "def encoding(word):\n",
    "    \n",
    "#     lista = list(s)\n",
    "\n",
    "#     for i in lista:\n",
    "#         if i not \n",
    "    \n",
    "\n",
    "encoding('word')\n",
    "\n",
    "\n",
    "return \"\".join([\"(\" if word.lower().count(l)==1 else \")\" for l in word.lower()])\n"
   ]
  },
  {
   "cell_type": "code",
   "execution_count": 15,
   "metadata": {},
   "outputs": [],
   "source": [
    "# questao 5 - Escreva uma função persistence que recebe um parâmetro positivo num e que retorna sua persistência multiplicativa ou seja, o número de vezes que você deve multiplicar os dígitos em num até que você chegue a um único dígito.\n",
    "\n",
    "\n",
    "# Por exemplo:\n",
    "#  persistence(39) => 3  # Because 3*9 = 27, 2*7 = 14, 1*4=4\n",
    "#                        # and 4 has only one digit.\n",
    "#  persistence(999) => 4 # Because 9*9*9 = 729, 7*2*9 = 126,\n",
    "#                        # 1*2*6 = 12, and finally 1*2 = 2.\n",
    "#  persistence(4) => 0   # Because 4 is already a one-digit number.\n",
    "#  persistence(39) # returns 3, because 3*9=27, 2*7=14, 1*4=4\n",
    "#                  # and 4 has only one digit\n",
    "#  persistence(999) # returns 4, because 9*9*9=729, 7*2*9=126,\n",
    "#                   # 1*2*6=12, and finally 1*2=2\n",
    "#  persistence(4) # returns 0, because 4 is already a one-digit number."
   ]
  },
  {
   "cell_type": "code",
   "execution_count": null,
   "metadata": {},
   "outputs": [],
   "source": [
    "# questao 6 - Crie uma calculadora que recebe uma string podendo conter (), +, -, *, / e números separados por espaços e retorna o resultado dessa expressão.\n",
    "\n",
    "#A calculadora deve ser implementada através de uma classe chamada Calculator que deve possuir um método chamado evaluate() que recebe a string com a expressão e retorna o resultado.\n",
    "\n",
    "#Exemplo: Calculator().evaluate(\"2 / 2 + 3 * 4 - 6\") # => 7\n",
    "\n",
    "# Atenção!\n",
    "# Lembre-se da precedência entre os operadores e que a expressão deve ser sempre resolvida da esquerda para a direita. Divisão > Multiplicação > Soma/Adição. E não se esqueça dos parênteses!\n",
    "\n"
   ]
  }
 ]
}